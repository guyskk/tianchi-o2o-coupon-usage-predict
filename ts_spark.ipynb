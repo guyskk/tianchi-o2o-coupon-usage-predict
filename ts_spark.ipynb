{
 "cells": [
  {
   "cell_type": "code",
   "execution_count": 1,
   "metadata": {},
   "outputs": [],
   "source": [
    "import numpy as np\n",
    "import pandas as pd\n",
    "import matplotlib as mpl\n",
    "import matplotlib.pyplot as plt\n",
    "import humanfriendly\n",
    "from IPython.display import display\n",
    "from loguru import logger as LOG\n",
    "import tqdm\n",
    "import time"
   ]
  },
  {
   "cell_type": "code",
   "execution_count": 5,
   "metadata": {},
   "outputs": [
    {
     "name": "stdout",
     "output_type": "stream",
     "text": [
      "white\n"
     ]
    }
   ],
   "source": [
    "mpl.rc('figure', facecolor='white')\n",
    "print(mpl.rcParams['figure.facecolor'])"
   ]
  },
  {
   "cell_type": "code",
   "execution_count": 39,
   "metadata": {},
   "outputs": [],
   "source": [
    "from pyspark.sql import SparkSession\n",
    "from pyspark.sql.types import *\n",
    "\n",
    "\n",
    "spark = SparkSession.builder.appName(\"SimpleApp\").getOrCreate()\n",
    "spark.conf.set(\"spark.sql.execution.arrow.enabled\", \"true\")\n"
   ]
  },
  {
   "cell_type": "code",
   "execution_count": 27,
   "metadata": {},
   "outputs": [
    {
     "data": {
      "text/html": [
       "<div>\n",
       "<style scoped>\n",
       "    .dataframe tbody tr th:only-of-type {\n",
       "        vertical-align: middle;\n",
       "    }\n",
       "\n",
       "    .dataframe tbody tr th {\n",
       "        vertical-align: top;\n",
       "    }\n",
       "\n",
       "    .dataframe thead th {\n",
       "        text-align: right;\n",
       "    }\n",
       "</style>\n",
       "<table border=\"1\" class=\"dataframe\">\n",
       "  <thead>\n",
       "    <tr style=\"text-align: right;\">\n",
       "      <th></th>\n",
       "      <th>date</th>\n",
       "      <th>date2</th>\n",
       "      <th>event_type</th>\n",
       "      <th>user_id</th>\n",
       "      <th>merchant_id</th>\n",
       "      <th>coupon_id</th>\n",
       "      <th>discount_name</th>\n",
       "      <th>distance</th>\n",
       "      <th>click_count</th>\n",
       "    </tr>\n",
       "  </thead>\n",
       "  <tbody>\n",
       "    <tr>\n",
       "      <th>1054678</th>\n",
       "      <td>2016-01-01</td>\n",
       "      <td>2016-01-01</td>\n",
       "      <td>offline_buy_with_coupon</td>\n",
       "      <td>3292058</td>\n",
       "      <td>6594</td>\n",
       "      <td>6124</td>\n",
       "      <td>90</td>\n",
       "      <td>8.0</td>\n",
       "      <td>NaN</td>\n",
       "    </tr>\n",
       "    <tr>\n",
       "      <th>1054912</th>\n",
       "      <td>2016-01-01</td>\n",
       "      <td>2016-01-01</td>\n",
       "      <td>offline_buy_with_coupon</td>\n",
       "      <td>3091874</td>\n",
       "      <td>1169</td>\n",
       "      <td>2663</td>\n",
       "      <td>150:30</td>\n",
       "      <td>NaN</td>\n",
       "      <td>NaN</td>\n",
       "    </tr>\n",
       "    <tr>\n",
       "      <th>1058299</th>\n",
       "      <td>2016-01-01</td>\n",
       "      <td>2016-01-01</td>\n",
       "      <td>offline_buy_with_coupon</td>\n",
       "      <td>902667</td>\n",
       "      <td>1520</td>\n",
       "      <td>13092</td>\n",
       "      <td>90</td>\n",
       "      <td>NaN</td>\n",
       "      <td>NaN</td>\n",
       "    </tr>\n",
       "    <tr>\n",
       "      <th>1061290</th>\n",
       "      <td>2016-01-01</td>\n",
       "      <td>2016-01-01</td>\n",
       "      <td>offline_buy_with_coupon</td>\n",
       "      <td>5262672</td>\n",
       "      <td>6735</td>\n",
       "      <td>7496</td>\n",
       "      <td>95</td>\n",
       "      <td>0.0</td>\n",
       "      <td>NaN</td>\n",
       "    </tr>\n",
       "    <tr>\n",
       "      <th>1066893</th>\n",
       "      <td>2016-01-01</td>\n",
       "      <td>2016-01-01</td>\n",
       "      <td>offline_buy_with_coupon</td>\n",
       "      <td>4046619</td>\n",
       "      <td>3786</td>\n",
       "      <td>7924</td>\n",
       "      <td>10:5</td>\n",
       "      <td>0.0</td>\n",
       "      <td>NaN</td>\n",
       "    </tr>\n",
       "  </tbody>\n",
       "</table>\n",
       "</div>"
      ],
      "text/plain": [
       "              date      date2               event_type  user_id  merchant_id  \\\n",
       "1054678 2016-01-01 2016-01-01  offline_buy_with_coupon  3292058         6594   \n",
       "1054912 2016-01-01 2016-01-01  offline_buy_with_coupon  3091874         1169   \n",
       "1058299 2016-01-01 2016-01-01  offline_buy_with_coupon   902667         1520   \n",
       "1061290 2016-01-01 2016-01-01  offline_buy_with_coupon  5262672         6735   \n",
       "1066893 2016-01-01 2016-01-01  offline_buy_with_coupon  4046619         3786   \n",
       "\n",
       "        coupon_id discount_name  distance  click_count  \n",
       "1054678      6124            90       8.0          NaN  \n",
       "1054912      2663        150:30       NaN          NaN  \n",
       "1058299     13092            90       NaN          NaN  \n",
       "1061290      7496            95       0.0          NaN  \n",
       "1066893      7924          10:5       0.0          NaN  "
      ]
     },
     "execution_count": 27,
     "metadata": {},
     "output_type": "execute_result"
    }
   ],
   "source": [
    "df_events = df = pd.read_msgpack('data/z6_ts_events.msgpack')\n",
    "df_events.head(5)"
   ]
  },
  {
   "cell_type": "code",
   "execution_count": 58,
   "metadata": {},
   "outputs": [
    {
     "data": {
      "text/html": [
       "<div>\n",
       "<style scoped>\n",
       "    .dataframe tbody tr th:only-of-type {\n",
       "        vertical-align: middle;\n",
       "    }\n",
       "\n",
       "    .dataframe tbody tr th {\n",
       "        vertical-align: top;\n",
       "    }\n",
       "\n",
       "    .dataframe thead th {\n",
       "        text-align: right;\n",
       "    }\n",
       "</style>\n",
       "<table border=\"1\" class=\"dataframe\">\n",
       "  <thead>\n",
       "    <tr style=\"text-align: right;\">\n",
       "      <th></th>\n",
       "      <th>is_xianshi</th>\n",
       "      <th>is_dazhe</th>\n",
       "      <th>is_manjian</th>\n",
       "      <th>discount_man</th>\n",
       "      <th>discount_jian</th>\n",
       "      <th>discount_rate</th>\n",
       "    </tr>\n",
       "    <tr>\n",
       "      <th>discount_name</th>\n",
       "      <th></th>\n",
       "      <th></th>\n",
       "      <th></th>\n",
       "      <th></th>\n",
       "      <th></th>\n",
       "      <th></th>\n",
       "    </tr>\n",
       "  </thead>\n",
       "  <tbody>\n",
       "    <tr>\n",
       "      <th>100:1</th>\n",
       "      <td>False</td>\n",
       "      <td>False</td>\n",
       "      <td>True</td>\n",
       "      <td>100</td>\n",
       "      <td>1.0</td>\n",
       "      <td>0.99</td>\n",
       "    </tr>\n",
       "    <tr>\n",
       "      <th>100:10</th>\n",
       "      <td>False</td>\n",
       "      <td>False</td>\n",
       "      <td>True</td>\n",
       "      <td>100</td>\n",
       "      <td>10.0</td>\n",
       "      <td>0.90</td>\n",
       "    </tr>\n",
       "    <tr>\n",
       "      <th>100:20</th>\n",
       "      <td>False</td>\n",
       "      <td>False</td>\n",
       "      <td>True</td>\n",
       "      <td>100</td>\n",
       "      <td>20.0</td>\n",
       "      <td>0.80</td>\n",
       "    </tr>\n",
       "    <tr>\n",
       "      <th>100:30</th>\n",
       "      <td>False</td>\n",
       "      <td>False</td>\n",
       "      <td>True</td>\n",
       "      <td>100</td>\n",
       "      <td>30.0</td>\n",
       "      <td>0.70</td>\n",
       "    </tr>\n",
       "    <tr>\n",
       "      <th>100:5</th>\n",
       "      <td>False</td>\n",
       "      <td>False</td>\n",
       "      <td>True</td>\n",
       "      <td>100</td>\n",
       "      <td>5.0</td>\n",
       "      <td>0.95</td>\n",
       "    </tr>\n",
       "  </tbody>\n",
       "</table>\n",
       "</div>"
      ],
      "text/plain": [
       "               is_xianshi  is_dazhe  is_manjian  discount_man  discount_jian  \\\n",
       "discount_name                                                                  \n",
       "100:1               False     False        True           100            1.0   \n",
       "100:10              False     False        True           100           10.0   \n",
       "100:20              False     False        True           100           20.0   \n",
       "100:30              False     False        True           100           30.0   \n",
       "100:5               False     False        True           100            5.0   \n",
       "\n",
       "               discount_rate  \n",
       "discount_name                 \n",
       "100:1                   0.99  \n",
       "100:10                  0.90  \n",
       "100:20                  0.80  \n",
       "100:30                  0.70  \n",
       "100:5                   0.95  "
      ]
     },
     "execution_count": 58,
     "metadata": {},
     "output_type": "execute_result"
    }
   ],
   "source": [
    "df_discount = df = pd.read_msgpack('data/z6_ts_discount.msgpack')\n",
    "df_discount.head(5)"
   ]
  },
  {
   "cell_type": "code",
   "execution_count": 59,
   "metadata": {},
   "outputs": [],
   "source": [
    "df_discount.to_csv('data/z6_ts_discount.csv')"
   ]
  },
  {
   "cell_type": "code",
   "execution_count": 31,
   "metadata": {},
   "outputs": [],
   "source": [
    "df_events.to_csv('data/z6_ts_events.csv', index=False)"
   ]
  },
  {
   "cell_type": "code",
   "execution_count": 60,
   "metadata": {},
   "outputs": [],
   "source": [
    "discount_schema = StructType([\n",
    "    StructField('discount_name', StringType(), False),\n",
    "    StructField('is_xianshi', BooleanType(), False),\n",
    "    StructField('is_dazhe', BooleanType(), False),\n",
    "    StructField('is_manjian', BooleanType(), False),\n",
    "    StructField('discount_man', FloatType(), True),\n",
    "    StructField('discount_jian', FloatType(), True),\n",
    "    StructField('discount_rate', FloatType(), True),\n",
    "])\n",
    "df_discount = spark.read.csv('data/z6_ts_discount.csv', schema=discount_schema, header=True, mode='FAILFAST')"
   ]
  },
  {
   "cell_type": "code",
   "execution_count": 71,
   "metadata": {},
   "outputs": [
    {
     "name": "stdout",
     "output_type": "stream",
     "text": [
      "+-------------+----------+--------+----------+------------+-------------+-------------+\n",
      "|discount_name|is_xianshi|is_dazhe|is_manjian|discount_man|discount_jian|discount_rate|\n",
      "+-------------+----------+--------+----------+------------+-------------+-------------+\n",
      "|        100:1|     false|   false|      true|       100.0|          1.0|         0.99|\n",
      "|       100:10|     false|   false|      true|       100.0|         10.0|          0.9|\n",
      "|       100:20|     false|   false|      true|       100.0|         20.0|          0.8|\n",
      "|       100:30|     false|   false|      true|       100.0|         30.0|          0.7|\n",
      "|        100:5|     false|   false|      true|       100.0|          5.0|         0.95|\n",
      "+-------------+----------+--------+----------+------------+-------------+-------------+\n",
      "only showing top 5 rows\n",
      "\n"
     ]
    }
   ],
   "source": [
    "df_discount.show(5)"
   ]
  },
  {
   "cell_type": "code",
   "execution_count": 62,
   "metadata": {},
   "outputs": [],
   "source": [
    "df_discount.createOrReplaceTempView('discount')"
   ]
  },
  {
   "cell_type": "code",
   "execution_count": 70,
   "metadata": {},
   "outputs": [
    {
     "name": "stdout",
     "output_type": "stream",
     "text": [
      "+----------+----------+--------------------+-------+-----------+---------+-------------+--------+-----------+\n",
      "|      date|     date2|          event_type|user_id|merchant_id|coupon_id|discount_name|distance|click_count|\n",
      "+----------+----------+--------------------+-------+-----------+---------+-------------+--------+-----------+\n",
      "|2016-01-01|2016-01-01|offline_buy_with_...|3292058|       6594|     6124|           90|     8.0|       null|\n",
      "|2016-01-01|2016-01-01|offline_buy_with_...|3091874|       1169|     2663|       150:30|    null|       null|\n",
      "|2016-01-01|2016-01-01|offline_buy_with_...| 902667|       1520|    13092|           90|    null|       null|\n",
      "|2016-01-01|2016-01-01|offline_buy_with_...|5262672|       6735|     7496|           95|     0.0|       null|\n",
      "|2016-01-01|2016-01-01|offline_buy_with_...|4046619|       3786|     7924|         10:5|     0.0|       null|\n",
      "+----------+----------+--------------------+-------+-----------+---------+-------------+--------+-----------+\n",
      "only showing top 5 rows\n",
      "\n"
     ]
    }
   ],
   "source": [
    "events_schema = StructType([\n",
    "    StructField('date', DateType(), False),\n",
    "    StructField('date2', DateType(), True),\n",
    "    StructField('event_type', StringType(), False),\n",
    "    StructField('user_id', StringType(), False),\n",
    "    StructField('merchant_id', StringType(), False),\n",
    "    StructField('coupon_id', StringType(), True),\n",
    "    StructField('discount_name', StringType(), True),\n",
    "    StructField('distance', FloatType(), True),\n",
    "    StructField('click_count', FloatType(), True),\n",
    "])\n",
    "df_events = spark.read.csv('data/z6_ts_events.csv', schema=events_schema, header=True, mode='FAILFAST')\n",
    "df_events.show(5)"
   ]
  },
  {
   "cell_type": "code",
   "execution_count": 72,
   "metadata": {},
   "outputs": [],
   "source": [
    "df_events.createOrReplaceTempView('events')"
   ]
  },
  {
   "cell_type": "code",
   "execution_count": 65,
   "metadata": {},
   "outputs": [
    {
     "name": "stdout",
     "output_type": "stream",
     "text": [
      "+-------+-------------+\n",
      "|user_id|discount_rate|\n",
      "+-------+-------------+\n",
      "|3292058|          0.9|\n",
      "|3091874|          0.8|\n",
      "| 902667|          0.9|\n",
      "|5262672|         0.95|\n",
      "|4046619|          0.5|\n",
      "|4868006|         0.95|\n",
      "|3021843|         0.95|\n",
      "|2618907|          0.9|\n",
      "|5903263|         0.95|\n",
      "|2742690|         0.95|\n",
      "| 245786|         0.95|\n",
      "|1467367|          0.9|\n",
      "|2564124|         0.95|\n",
      "|2062081|         0.95|\n",
      "|3564078|         0.95|\n",
      "|1380154|          0.9|\n",
      "|2400402|         0.95|\n",
      "|5086042|          0.8|\n",
      "|7340314|         0.95|\n",
      "|4583746|         0.95|\n",
      "+-------+-------------+\n",
      "only showing top 20 rows\n",
      "\n"
     ]
    }
   ],
   "source": [
    "spark.sql(\"\"\"\n",
    "    select user_id, discount_rate \n",
    "    from events \n",
    "    left outer join discount \n",
    "    on events.discount_name=discount.discount_name\n",
    "\"\"\").show()"
   ]
  },
  {
   "cell_type": "code",
   "execution_count": 122,
   "metadata": {},
   "outputs": [],
   "source": [
    "from pyspark.sql.functions import pandas_udf\n",
    "from pyspark.sql.functions import *"
   ]
  },
  {
   "cell_type": "code",
   "execution_count": 75,
   "metadata": {},
   "outputs": [
    {
     "data": {
      "text/plain": [
       "DataFrame[discount_name: string, date: date, date2: date, event_type: string, user_id: string, merchant_id: string, coupon_id: string, distance: float, click_count: float, is_xianshi: boolean, is_dazhe: boolean, is_manjian: boolean, discount_man: float, discount_jian: float, discount_rate: float]"
      ]
     },
     "execution_count": 75,
     "metadata": {},
     "output_type": "execute_result"
    }
   ],
   "source": [
    "df = df_events.join(df_discount, on='discount_name')\n",
    "df"
   ]
  },
  {
   "cell_type": "code",
   "execution_count": 136,
   "metadata": {},
   "outputs": [
    {
     "data": {
      "text/plain": [
       "\u001b[0;31mInit signature:\u001b[0m \u001b[0mPandasUDFType\u001b[0m\u001b[0;34m(\u001b[0m\u001b[0;34m)\u001b[0m\u001b[0;34m\u001b[0m\u001b[0m\n",
       "\u001b[0;31mDocstring:\u001b[0m     \n",
       "Pandas UDF Types. See :meth:`pyspark.sql.functions.pandas_udf`.\n",
       "    \n",
       "\u001b[0;31mFile:\u001b[0m           ~/anaconda3/lib/python3.6/site-packages/pyspark/sql/functions.py\n",
       "\u001b[0;31mType:\u001b[0m           type\n"
      ]
     },
     "metadata": {},
     "output_type": "display_data"
    }
   ],
   "source": [
    "PandasUDFType?"
   ]
  },
  {
   "cell_type": "code",
   "execution_count": 82,
   "metadata": {},
   "outputs": [],
   "source": [
    "from pyspark.sql import functions"
   ]
  },
  {
   "cell_type": "code",
   "execution_count": 110,
   "metadata": {},
   "outputs": [
    {
     "data": {
      "text/plain": [
       "['35004', '29912', '16504', '25912', '37311']"
      ]
     },
     "execution_count": 110,
     "metadata": {},
     "output_type": "execute_result"
    }
   ],
   "source": [
    "keys = df.select('merchant_id').distinct().rdd.flatMap(lambda x: x).collect()\n",
    "keys[:5]"
   ]
  },
  {
   "cell_type": "code",
   "execution_count": 147,
   "metadata": {},
   "outputs": [
    {
     "data": {
      "text/plain": [
       "<function __main__.func(key, df)>"
      ]
     },
     "execution_count": 147,
     "metadata": {},
     "output_type": "execute_result"
    }
   ],
   "source": [
    "@pandas_udf('merchant_id string, date date', PandasUDFType.GROUPED_MAP)\n",
    "def func(key, df):\n",
    "    idx_date = df[df['event_type']=='offline_receive_coupon']['date'].unique()\n",
    "    return pd.DataFrame({\n",
    "        'merchant_id': key[0],\n",
    "        'date': idx_date,\n",
    "    })\n",
    "\n",
    "func"
   ]
  },
  {
   "cell_type": "code",
   "execution_count": 182,
   "metadata": {},
   "outputs": [
    {
     "data": {
      "text/html": [
       "<div>\n",
       "<style scoped>\n",
       "    .dataframe tbody tr th:only-of-type {\n",
       "        vertical-align: middle;\n",
       "    }\n",
       "\n",
       "    .dataframe tbody tr th {\n",
       "        vertical-align: top;\n",
       "    }\n",
       "\n",
       "    .dataframe thead th {\n",
       "        text-align: right;\n",
       "    }\n",
       "</style>\n",
       "<table border=\"1\" class=\"dataframe\">\n",
       "  <thead>\n",
       "    <tr style=\"text-align: right;\">\n",
       "      <th></th>\n",
       "      <th>a</th>\n",
       "      <th>b</th>\n",
       "      <th>c</th>\n",
       "      <th>d</th>\n",
       "      <th>e</th>\n",
       "    </tr>\n",
       "  </thead>\n",
       "  <tbody>\n",
       "    <tr>\n",
       "      <th>0</th>\n",
       "      <td>1</td>\n",
       "      <td>2</td>\n",
       "      <td>3</td>\n",
       "      <td>4</td>\n",
       "      <td>0</td>\n",
       "    </tr>\n",
       "    <tr>\n",
       "      <th>1</th>\n",
       "      <td>1</td>\n",
       "      <td>2</td>\n",
       "      <td>3</td>\n",
       "      <td>4</td>\n",
       "      <td>1</td>\n",
       "    </tr>\n",
       "    <tr>\n",
       "      <th>2</th>\n",
       "      <td>1</td>\n",
       "      <td>2</td>\n",
       "      <td>3</td>\n",
       "      <td>4</td>\n",
       "      <td>2</td>\n",
       "    </tr>\n",
       "    <tr>\n",
       "      <th>3</th>\n",
       "      <td>1</td>\n",
       "      <td>2</td>\n",
       "      <td>3</td>\n",
       "      <td>4</td>\n",
       "      <td>3</td>\n",
       "    </tr>\n",
       "    <tr>\n",
       "      <th>4</th>\n",
       "      <td>1</td>\n",
       "      <td>2</td>\n",
       "      <td>3</td>\n",
       "      <td>4</td>\n",
       "      <td>4</td>\n",
       "    </tr>\n",
       "  </tbody>\n",
       "</table>\n",
       "</div>"
      ],
      "text/plain": [
       "   a  b  c  d  e\n",
       "0  1  2  3  4  0\n",
       "1  1  2  3  4  1\n",
       "2  1  2  3  4  2\n",
       "3  1  2  3  4  3\n",
       "4  1  2  3  4  4"
      ]
     },
     "execution_count": 182,
     "metadata": {},
     "output_type": "execute_result"
    }
   ],
   "source": [
    "df = pd.DataFrame([[1,2,3,4,i] for i in range(10000)], columns=list('abcde'))\n",
    "arr = df.values\n",
    "df.head(5)"
   ]
  },
  {
   "cell_type": "code",
   "execution_count": 183,
   "metadata": {},
   "outputs": [
    {
     "name": "stdout",
     "output_type": "stream",
     "text": [
      "74.3 µs ± 1.75 µs per loop (mean ± std. dev. of 7 runs, 10000 loops each)\n"
     ]
    }
   ],
   "source": [
    "%%timeit\n",
    "\n",
    "df.iloc[1000:1001]"
   ]
  },
  {
   "cell_type": "code",
   "execution_count": 184,
   "metadata": {},
   "outputs": [
    {
     "name": "stdout",
     "output_type": "stream",
     "text": [
      "254 ns ± 10.6 ns per loop (mean ± std. dev. of 7 runs, 1000000 loops each)\n"
     ]
    }
   ],
   "source": [
    "%%timeit\n",
    "arr[1000:1002]"
   ]
  },
  {
   "cell_type": "code",
   "execution_count": 149,
   "metadata": {},
   "outputs": [
    {
     "name": "stdout",
     "output_type": "stream",
     "text": [
      "+-----------+----------+\n",
      "|merchant_id|      date|\n",
      "+-----------+----------+\n",
      "|       1090|2016-06-05|\n",
      "|       1159|2016-04-22|\n",
      "|       1159|2016-04-24|\n",
      "|       1159|2016-04-29|\n",
      "|       1159|2016-05-01|\n",
      "+-----------+----------+\n",
      "only showing top 5 rows\n",
      "\n"
     ]
    }
   ],
   "source": [
    "merchant_date = df.groupby('merchant_id').apply(func)\n",
    "merchant_date.show(5)"
   ]
  },
  {
   "cell_type": "code",
   "execution_count": 151,
   "metadata": {},
   "outputs": [
    {
     "data": {
      "text/plain": [
       "DataFrame[merchant_id: string, date: date]"
      ]
     },
     "execution_count": 151,
     "metadata": {},
     "output_type": "execute_result"
    }
   ],
   "source": [
    "merchant_date.cache()"
   ]
  },
  {
   "cell_type": "code",
   "execution_count": 156,
   "metadata": {},
   "outputs": [
    {
     "data": {
      "text/plain": [
       "[\"('1090', datetime.date(2016, 6, 5))\",\n",
       " \"('1159', datetime.date(2016, 4, 22))\",\n",
       " \"('1159', datetime.date(2016, 4, 24))\",\n",
       " \"('1159', datetime.date(2016, 4, 29))\",\n",
       " \"('1159', datetime.date(2016, 5, 1))\"]"
      ]
     },
     "execution_count": 156,
     "metadata": {},
     "output_type": "execute_result"
    }
   ],
   "source": [
    "def func(row):\n",
    "    merchant_id, date = row\n",
    "    return str((merchant_id, date))\n",
    "\n",
    "merchant_date.rdd.map(func).take(5)"
   ]
  },
  {
   "cell_type": "code",
   "execution_count": 25,
   "metadata": {},
   "outputs": [
    {
     "data": {
      "text/html": [
       "<div>\n",
       "<style scoped>\n",
       "    .dataframe tbody tr th:only-of-type {\n",
       "        vertical-align: middle;\n",
       "    }\n",
       "\n",
       "    .dataframe tbody tr th {\n",
       "        vertical-align: top;\n",
       "    }\n",
       "\n",
       "    .dataframe thead th {\n",
       "        text-align: right;\n",
       "    }\n",
       "</style>\n",
       "<table border=\"1\" class=\"dataframe\">\n",
       "  <thead>\n",
       "    <tr style=\"text-align: right;\">\n",
       "      <th></th>\n",
       "      <th>0</th>\n",
       "      <th>1</th>\n",
       "      <th>2</th>\n",
       "    </tr>\n",
       "  </thead>\n",
       "  <tbody>\n",
       "    <tr>\n",
       "      <th>0</th>\n",
       "      <td>0.570693</td>\n",
       "      <td>0.069152</td>\n",
       "      <td>0.945669</td>\n",
       "    </tr>\n",
       "    <tr>\n",
       "      <th>1</th>\n",
       "      <td>0.575289</td>\n",
       "      <td>0.461587</td>\n",
       "      <td>0.708947</td>\n",
       "    </tr>\n",
       "    <tr>\n",
       "      <th>2</th>\n",
       "      <td>0.768387</td>\n",
       "      <td>0.493845</td>\n",
       "      <td>0.624628</td>\n",
       "    </tr>\n",
       "    <tr>\n",
       "      <th>3</th>\n",
       "      <td>0.708017</td>\n",
       "      <td>0.932988</td>\n",
       "      <td>0.483427</td>\n",
       "    </tr>\n",
       "    <tr>\n",
       "      <th>4</th>\n",
       "      <td>0.548956</td>\n",
       "      <td>0.670273</td>\n",
       "      <td>0.634007</td>\n",
       "    </tr>\n",
       "    <tr>\n",
       "      <th>5</th>\n",
       "      <td>0.514265</td>\n",
       "      <td>0.860078</td>\n",
       "      <td>0.218264</td>\n",
       "    </tr>\n",
       "    <tr>\n",
       "      <th>6</th>\n",
       "      <td>0.940506</td>\n",
       "      <td>0.060052</td>\n",
       "      <td>0.592625</td>\n",
       "    </tr>\n",
       "    <tr>\n",
       "      <th>7</th>\n",
       "      <td>0.647632</td>\n",
       "      <td>0.826532</td>\n",
       "      <td>0.904886</td>\n",
       "    </tr>\n",
       "    <tr>\n",
       "      <th>8</th>\n",
       "      <td>0.560699</td>\n",
       "      <td>0.123889</td>\n",
       "      <td>0.514715</td>\n",
       "    </tr>\n",
       "    <tr>\n",
       "      <th>9</th>\n",
       "      <td>0.477724</td>\n",
       "      <td>0.330610</td>\n",
       "      <td>0.371416</td>\n",
       "    </tr>\n",
       "    <tr>\n",
       "      <th>10</th>\n",
       "      <td>0.739852</td>\n",
       "      <td>0.031254</td>\n",
       "      <td>0.144227</td>\n",
       "    </tr>\n",
       "    <tr>\n",
       "      <th>11</th>\n",
       "      <td>0.466531</td>\n",
       "      <td>0.862362</td>\n",
       "      <td>0.167522</td>\n",
       "    </tr>\n",
       "    <tr>\n",
       "      <th>12</th>\n",
       "      <td>0.342920</td>\n",
       "      <td>0.870556</td>\n",
       "      <td>0.327611</td>\n",
       "    </tr>\n",
       "    <tr>\n",
       "      <th>13</th>\n",
       "      <td>0.174501</td>\n",
       "      <td>0.810335</td>\n",
       "      <td>0.638984</td>\n",
       "    </tr>\n",
       "    <tr>\n",
       "      <th>14</th>\n",
       "      <td>0.264370</td>\n",
       "      <td>0.928713</td>\n",
       "      <td>0.054449</td>\n",
       "    </tr>\n",
       "    <tr>\n",
       "      <th>15</th>\n",
       "      <td>0.932898</td>\n",
       "      <td>0.003797</td>\n",
       "      <td>0.576227</td>\n",
       "    </tr>\n",
       "    <tr>\n",
       "      <th>16</th>\n",
       "      <td>0.000461</td>\n",
       "      <td>0.772577</td>\n",
       "      <td>0.862149</td>\n",
       "    </tr>\n",
       "    <tr>\n",
       "      <th>17</th>\n",
       "      <td>0.890118</td>\n",
       "      <td>0.460841</td>\n",
       "      <td>0.950611</td>\n",
       "    </tr>\n",
       "    <tr>\n",
       "      <th>18</th>\n",
       "      <td>0.830037</td>\n",
       "      <td>0.579806</td>\n",
       "      <td>0.323554</td>\n",
       "    </tr>\n",
       "    <tr>\n",
       "      <th>19</th>\n",
       "      <td>0.650828</td>\n",
       "      <td>0.693571</td>\n",
       "      <td>0.878486</td>\n",
       "    </tr>\n",
       "    <tr>\n",
       "      <th>20</th>\n",
       "      <td>0.416734</td>\n",
       "      <td>0.731949</td>\n",
       "      <td>0.598369</td>\n",
       "    </tr>\n",
       "    <tr>\n",
       "      <th>21</th>\n",
       "      <td>0.050930</td>\n",
       "      <td>0.231625</td>\n",
       "      <td>0.787149</td>\n",
       "    </tr>\n",
       "    <tr>\n",
       "      <th>22</th>\n",
       "      <td>0.932315</td>\n",
       "      <td>0.662681</td>\n",
       "      <td>0.583681</td>\n",
       "    </tr>\n",
       "    <tr>\n",
       "      <th>23</th>\n",
       "      <td>0.718473</td>\n",
       "      <td>0.696389</td>\n",
       "      <td>0.090801</td>\n",
       "    </tr>\n",
       "    <tr>\n",
       "      <th>24</th>\n",
       "      <td>0.232304</td>\n",
       "      <td>0.505391</td>\n",
       "      <td>0.189148</td>\n",
       "    </tr>\n",
       "    <tr>\n",
       "      <th>25</th>\n",
       "      <td>0.886865</td>\n",
       "      <td>0.469706</td>\n",
       "      <td>0.053600</td>\n",
       "    </tr>\n",
       "    <tr>\n",
       "      <th>26</th>\n",
       "      <td>0.090561</td>\n",
       "      <td>0.687074</td>\n",
       "      <td>0.769125</td>\n",
       "    </tr>\n",
       "    <tr>\n",
       "      <th>27</th>\n",
       "      <td>0.653209</td>\n",
       "      <td>0.625075</td>\n",
       "      <td>0.415523</td>\n",
       "    </tr>\n",
       "    <tr>\n",
       "      <th>28</th>\n",
       "      <td>0.269312</td>\n",
       "      <td>0.261494</td>\n",
       "      <td>0.351539</td>\n",
       "    </tr>\n",
       "    <tr>\n",
       "      <th>29</th>\n",
       "      <td>0.943475</td>\n",
       "      <td>0.655284</td>\n",
       "      <td>0.681579</td>\n",
       "    </tr>\n",
       "    <tr>\n",
       "      <th>...</th>\n",
       "      <td>...</td>\n",
       "      <td>...</td>\n",
       "      <td>...</td>\n",
       "    </tr>\n",
       "    <tr>\n",
       "      <th>70</th>\n",
       "      <td>0.452644</td>\n",
       "      <td>0.985411</td>\n",
       "      <td>0.222720</td>\n",
       "    </tr>\n",
       "    <tr>\n",
       "      <th>71</th>\n",
       "      <td>0.333641</td>\n",
       "      <td>0.794501</td>\n",
       "      <td>0.110392</td>\n",
       "    </tr>\n",
       "    <tr>\n",
       "      <th>72</th>\n",
       "      <td>0.201695</td>\n",
       "      <td>0.314478</td>\n",
       "      <td>0.766953</td>\n",
       "    </tr>\n",
       "    <tr>\n",
       "      <th>73</th>\n",
       "      <td>0.048090</td>\n",
       "      <td>0.007839</td>\n",
       "      <td>0.744989</td>\n",
       "    </tr>\n",
       "    <tr>\n",
       "      <th>74</th>\n",
       "      <td>0.786416</td>\n",
       "      <td>0.450858</td>\n",
       "      <td>0.938596</td>\n",
       "    </tr>\n",
       "    <tr>\n",
       "      <th>75</th>\n",
       "      <td>0.044412</td>\n",
       "      <td>0.935238</td>\n",
       "      <td>0.313353</td>\n",
       "    </tr>\n",
       "    <tr>\n",
       "      <th>76</th>\n",
       "      <td>0.933585</td>\n",
       "      <td>0.369530</td>\n",
       "      <td>0.242825</td>\n",
       "    </tr>\n",
       "    <tr>\n",
       "      <th>77</th>\n",
       "      <td>0.352532</td>\n",
       "      <td>0.178075</td>\n",
       "      <td>0.986642</td>\n",
       "    </tr>\n",
       "    <tr>\n",
       "      <th>78</th>\n",
       "      <td>0.664170</td>\n",
       "      <td>0.657389</td>\n",
       "      <td>0.114016</td>\n",
       "    </tr>\n",
       "    <tr>\n",
       "      <th>79</th>\n",
       "      <td>0.796908</td>\n",
       "      <td>0.009558</td>\n",
       "      <td>0.672012</td>\n",
       "    </tr>\n",
       "    <tr>\n",
       "      <th>80</th>\n",
       "      <td>0.350469</td>\n",
       "      <td>0.554183</td>\n",
       "      <td>0.311475</td>\n",
       "    </tr>\n",
       "    <tr>\n",
       "      <th>81</th>\n",
       "      <td>0.322948</td>\n",
       "      <td>0.697047</td>\n",
       "      <td>0.169821</td>\n",
       "    </tr>\n",
       "    <tr>\n",
       "      <th>82</th>\n",
       "      <td>0.182063</td>\n",
       "      <td>0.780432</td>\n",
       "      <td>0.595817</td>\n",
       "    </tr>\n",
       "    <tr>\n",
       "      <th>83</th>\n",
       "      <td>0.139043</td>\n",
       "      <td>0.517953</td>\n",
       "      <td>0.500415</td>\n",
       "    </tr>\n",
       "    <tr>\n",
       "      <th>84</th>\n",
       "      <td>0.350761</td>\n",
       "      <td>0.856849</td>\n",
       "      <td>0.017736</td>\n",
       "    </tr>\n",
       "    <tr>\n",
       "      <th>85</th>\n",
       "      <td>0.770797</td>\n",
       "      <td>0.629472</td>\n",
       "      <td>0.210967</td>\n",
       "    </tr>\n",
       "    <tr>\n",
       "      <th>86</th>\n",
       "      <td>0.389271</td>\n",
       "      <td>0.766027</td>\n",
       "      <td>0.156567</td>\n",
       "    </tr>\n",
       "    <tr>\n",
       "      <th>87</th>\n",
       "      <td>0.559138</td>\n",
       "      <td>0.625387</td>\n",
       "      <td>0.339162</td>\n",
       "    </tr>\n",
       "    <tr>\n",
       "      <th>88</th>\n",
       "      <td>0.213056</td>\n",
       "      <td>0.942859</td>\n",
       "      <td>0.454926</td>\n",
       "    </tr>\n",
       "    <tr>\n",
       "      <th>89</th>\n",
       "      <td>0.815163</td>\n",
       "      <td>0.115907</td>\n",
       "      <td>0.534857</td>\n",
       "    </tr>\n",
       "    <tr>\n",
       "      <th>90</th>\n",
       "      <td>0.291028</td>\n",
       "      <td>0.934438</td>\n",
       "      <td>0.019747</td>\n",
       "    </tr>\n",
       "    <tr>\n",
       "      <th>91</th>\n",
       "      <td>0.543379</td>\n",
       "      <td>0.459546</td>\n",
       "      <td>0.307773</td>\n",
       "    </tr>\n",
       "    <tr>\n",
       "      <th>92</th>\n",
       "      <td>0.892269</td>\n",
       "      <td>0.222622</td>\n",
       "      <td>0.530214</td>\n",
       "    </tr>\n",
       "    <tr>\n",
       "      <th>93</th>\n",
       "      <td>0.202170</td>\n",
       "      <td>0.479053</td>\n",
       "      <td>0.279715</td>\n",
       "    </tr>\n",
       "    <tr>\n",
       "      <th>94</th>\n",
       "      <td>0.589355</td>\n",
       "      <td>0.743244</td>\n",
       "      <td>0.495512</td>\n",
       "    </tr>\n",
       "    <tr>\n",
       "      <th>95</th>\n",
       "      <td>0.131473</td>\n",
       "      <td>0.217173</td>\n",
       "      <td>0.270496</td>\n",
       "    </tr>\n",
       "    <tr>\n",
       "      <th>96</th>\n",
       "      <td>0.617524</td>\n",
       "      <td>0.375720</td>\n",
       "      <td>0.083885</td>\n",
       "    </tr>\n",
       "    <tr>\n",
       "      <th>97</th>\n",
       "      <td>0.051250</td>\n",
       "      <td>0.878413</td>\n",
       "      <td>0.627427</td>\n",
       "    </tr>\n",
       "    <tr>\n",
       "      <th>98</th>\n",
       "      <td>0.614369</td>\n",
       "      <td>0.317426</td>\n",
       "      <td>0.980159</td>\n",
       "    </tr>\n",
       "    <tr>\n",
       "      <th>99</th>\n",
       "      <td>0.826201</td>\n",
       "      <td>0.101765</td>\n",
       "      <td>0.277850</td>\n",
       "    </tr>\n",
       "  </tbody>\n",
       "</table>\n",
       "<p>100 rows × 3 columns</p>\n",
       "</div>"
      ],
      "text/plain": [
       "           0         1         2\n",
       "0   0.570693  0.069152  0.945669\n",
       "1   0.575289  0.461587  0.708947\n",
       "2   0.768387  0.493845  0.624628\n",
       "3   0.708017  0.932988  0.483427\n",
       "4   0.548956  0.670273  0.634007\n",
       "5   0.514265  0.860078  0.218264\n",
       "6   0.940506  0.060052  0.592625\n",
       "7   0.647632  0.826532  0.904886\n",
       "8   0.560699  0.123889  0.514715\n",
       "9   0.477724  0.330610  0.371416\n",
       "10  0.739852  0.031254  0.144227\n",
       "11  0.466531  0.862362  0.167522\n",
       "12  0.342920  0.870556  0.327611\n",
       "13  0.174501  0.810335  0.638984\n",
       "14  0.264370  0.928713  0.054449\n",
       "15  0.932898  0.003797  0.576227\n",
       "16  0.000461  0.772577  0.862149\n",
       "17  0.890118  0.460841  0.950611\n",
       "18  0.830037  0.579806  0.323554\n",
       "19  0.650828  0.693571  0.878486\n",
       "20  0.416734  0.731949  0.598369\n",
       "21  0.050930  0.231625  0.787149\n",
       "22  0.932315  0.662681  0.583681\n",
       "23  0.718473  0.696389  0.090801\n",
       "24  0.232304  0.505391  0.189148\n",
       "25  0.886865  0.469706  0.053600\n",
       "26  0.090561  0.687074  0.769125\n",
       "27  0.653209  0.625075  0.415523\n",
       "28  0.269312  0.261494  0.351539\n",
       "29  0.943475  0.655284  0.681579\n",
       "..       ...       ...       ...\n",
       "70  0.452644  0.985411  0.222720\n",
       "71  0.333641  0.794501  0.110392\n",
       "72  0.201695  0.314478  0.766953\n",
       "73  0.048090  0.007839  0.744989\n",
       "74  0.786416  0.450858  0.938596\n",
       "75  0.044412  0.935238  0.313353\n",
       "76  0.933585  0.369530  0.242825\n",
       "77  0.352532  0.178075  0.986642\n",
       "78  0.664170  0.657389  0.114016\n",
       "79  0.796908  0.009558  0.672012\n",
       "80  0.350469  0.554183  0.311475\n",
       "81  0.322948  0.697047  0.169821\n",
       "82  0.182063  0.780432  0.595817\n",
       "83  0.139043  0.517953  0.500415\n",
       "84  0.350761  0.856849  0.017736\n",
       "85  0.770797  0.629472  0.210967\n",
       "86  0.389271  0.766027  0.156567\n",
       "87  0.559138  0.625387  0.339162\n",
       "88  0.213056  0.942859  0.454926\n",
       "89  0.815163  0.115907  0.534857\n",
       "90  0.291028  0.934438  0.019747\n",
       "91  0.543379  0.459546  0.307773\n",
       "92  0.892269  0.222622  0.530214\n",
       "93  0.202170  0.479053  0.279715\n",
       "94  0.589355  0.743244  0.495512\n",
       "95  0.131473  0.217173  0.270496\n",
       "96  0.617524  0.375720  0.083885\n",
       "97  0.051250  0.878413  0.627427\n",
       "98  0.614369  0.317426  0.980159\n",
       "99  0.826201  0.101765  0.277850\n",
       "\n",
       "[100 rows x 3 columns]"
      ]
     },
     "execution_count": 25,
     "metadata": {},
     "output_type": "execute_result"
    }
   ],
   "source": [
    "# Enable Arrow-based columnar data transfers\n",
    "spark.conf.set(\"spark.sql.execution.arrow.enabled\", \"true\")\n",
    "\n",
    "# Generate a Pandas DataFrame\n",
    "pdf = pd.DataFrame(np.random.rand(100, 3))\n",
    "\n",
    "# Create a Spark DataFrame from a Pandas DataFrame using Arrow\n",
    "df = spark.createDataFrame(pdf)\n",
    "\n",
    "# Convert the Spark DataFrame back to a Pandas DataFrame using Arrow\n",
    "result_pdf = df.select(\"*\").toPandas()\n",
    "result_pdf"
   ]
  },
  {
   "cell_type": "code",
   "execution_count": 173,
   "metadata": {},
   "outputs": [],
   "source": [
    "arrays = [\n",
    "    pd.Series([i, 1])\n",
    "    for i in range(100)\n",
    "]"
   ]
  },
  {
   "cell_type": "code",
   "execution_count": 174,
   "metadata": {},
   "outputs": [
    {
     "name": "stdout",
     "output_type": "stream",
     "text": [
      "1.49 ms ± 11.9 µs per loop (mean ± std. dev. of 7 runs, 1000 loops each)\n"
     ]
    }
   ],
   "source": [
    "%%timeit\n",
    "pd.concat(arrays)"
   ]
  },
  {
   "cell_type": "code",
   "execution_count": 199,
   "metadata": {},
   "outputs": [],
   "source": [
    "import time\n",
    "from collections import OrderedDict\n",
    "from contextlib import contextmanager\n",
    "\n",
    "import numpy as np\n",
    "import pandas as pd\n",
    "import tqdm\n",
    "from loguru import logger as LOG\n",
    "from cached_property import cached_property\n",
    "\n",
    "\n",
    "@contextmanager\n",
    "def TLOG(name):\n",
    "    t0 = time.time()\n",
    "    try:\n",
    "        yield\n",
    "    finally:\n",
    "        t1 = time.time()\n",
    "        LOG.info('{} cost {:.3f}s', name, t1 - t0)\n",
    "\n",
    "        \n",
    "class IndexedEvents:\n",
    "    def __init__(self, df_events):\n",
    "        df_events = df_events.sort_values(['merchant_id', 'date', 'event_type'])\n",
    "        self.df_events = df_events\n",
    "        self._data = df_events.values\n",
    "        self._index = {}\n",
    "        with TLOG('_build_index'):\n",
    "            self._build_index()\n",
    "\n",
    "    def _build_index(self):\n",
    "        df = self.df_events.copy()\n",
    "        df['t'] = df['date'].dt.dayofyear - 1\n",
    "        df = df[['merchant_id', 't']]\n",
    "        prev_key = None\n",
    "        prev_t = 0\n",
    "        for i, (key, t) in tqdm.tqdm(enumerate(df.values), total=len(df)):\n",
    "            if key == prev_key:\n",
    "                idx = self._index[key]\n",
    "                if t == prev_t:\n",
    "                    # prev merchant, prev date\n",
    "                    pass\n",
    "                else:\n",
    "                    # prev merchant, new date\n",
    "                    idx[prev_t, 1] = i - 1\n",
    "                    idx[prev_t+1:t, 0] = i - 1\n",
    "                    idx[t, 0] = i\n",
    "            else:\n",
    "                # new merchant, new date\n",
    "                idx = np.full((366, 2), -1)\n",
    "                idx[:t, 0] = i - 1\n",
    "                idx[t, 0] = i\n",
    "                self._index[key] = idx\n",
    "                if prev_key is not None:\n",
    "                    prev_idx = self._index[prev_key]\n",
    "                    prev_idx[prev_t, 1] = i - 1\n",
    "                    prev_idx[prev_t+1:, 0] = i - 1\n",
    "            prev_key = key\n",
    "            prev_t = t\n",
    "        if prev_key is not None:\n",
    "            prev_idx = self._index[prev_key]\n",
    "            prev_idx[prev_t, 1] = i - 1\n",
    "            prev_idx[prev_t+1:, 0] = i - 1\n",
    "\n",
    "    def loc(self, key, t1, t2):\n",
    "        if not isinstance(t1, int):\n",
    "            t1 = pd.Timestamp(t1).dayofyear - 1\n",
    "        if not isinstance(t2, int):\n",
    "            t2 = pd.Timestamp(t2).dayofyear - 1\n",
    "        idx = self._index[key]\n",
    "        i1, j1 = idx[t1]\n",
    "        i2, j2 = idx[t2]\n",
    "        if j1 == -1:\n",
    "            i = i1 + 1\n",
    "        else:\n",
    "            i = i1\n",
    "        if j2 == -1:\n",
    "            j = i2\n",
    "        else:\n",
    "            j = j2\n",
    "        return self._data[i:j+1]\n"
   ]
  },
  {
   "cell_type": "code",
   "execution_count": 188,
   "metadata": {},
   "outputs": [
    {
     "data": {
      "text/html": [
       "<div>\n",
       "<style scoped>\n",
       "    .dataframe tbody tr th:only-of-type {\n",
       "        vertical-align: middle;\n",
       "    }\n",
       "\n",
       "    .dataframe tbody tr th {\n",
       "        vertical-align: top;\n",
       "    }\n",
       "\n",
       "    .dataframe thead th {\n",
       "        text-align: right;\n",
       "    }\n",
       "</style>\n",
       "<table border=\"1\" class=\"dataframe\">\n",
       "  <thead>\n",
       "    <tr style=\"text-align: right;\">\n",
       "      <th></th>\n",
       "      <th>date</th>\n",
       "      <th>date2</th>\n",
       "      <th>event_type</th>\n",
       "      <th>user_id</th>\n",
       "      <th>merchant_id</th>\n",
       "      <th>coupon_id</th>\n",
       "      <th>discount_name</th>\n",
       "      <th>distance</th>\n",
       "      <th>click_count</th>\n",
       "      <th>t</th>\n",
       "      <th>t2</th>\n",
       "    </tr>\n",
       "  </thead>\n",
       "  <tbody>\n",
       "    <tr>\n",
       "      <th>1054678</th>\n",
       "      <td>2016-01-01</td>\n",
       "      <td>2016-01-01</td>\n",
       "      <td>offline_buy_with_coupon</td>\n",
       "      <td>3292058</td>\n",
       "      <td>6594</td>\n",
       "      <td>6124</td>\n",
       "      <td>90</td>\n",
       "      <td>8.0</td>\n",
       "      <td>NaN</td>\n",
       "      <td>0</td>\n",
       "      <td>0.0</td>\n",
       "    </tr>\n",
       "    <tr>\n",
       "      <th>1054912</th>\n",
       "      <td>2016-01-01</td>\n",
       "      <td>2016-01-01</td>\n",
       "      <td>offline_buy_with_coupon</td>\n",
       "      <td>3091874</td>\n",
       "      <td>1169</td>\n",
       "      <td>2663</td>\n",
       "      <td>150:30</td>\n",
       "      <td>NaN</td>\n",
       "      <td>NaN</td>\n",
       "      <td>0</td>\n",
       "      <td>0.0</td>\n",
       "    </tr>\n",
       "    <tr>\n",
       "      <th>1058299</th>\n",
       "      <td>2016-01-01</td>\n",
       "      <td>2016-01-01</td>\n",
       "      <td>offline_buy_with_coupon</td>\n",
       "      <td>902667</td>\n",
       "      <td>1520</td>\n",
       "      <td>13092</td>\n",
       "      <td>90</td>\n",
       "      <td>NaN</td>\n",
       "      <td>NaN</td>\n",
       "      <td>0</td>\n",
       "      <td>0.0</td>\n",
       "    </tr>\n",
       "    <tr>\n",
       "      <th>1061290</th>\n",
       "      <td>2016-01-01</td>\n",
       "      <td>2016-01-01</td>\n",
       "      <td>offline_buy_with_coupon</td>\n",
       "      <td>5262672</td>\n",
       "      <td>6735</td>\n",
       "      <td>7496</td>\n",
       "      <td>95</td>\n",
       "      <td>0.0</td>\n",
       "      <td>NaN</td>\n",
       "      <td>0</td>\n",
       "      <td>0.0</td>\n",
       "    </tr>\n",
       "    <tr>\n",
       "      <th>1066893</th>\n",
       "      <td>2016-01-01</td>\n",
       "      <td>2016-01-01</td>\n",
       "      <td>offline_buy_with_coupon</td>\n",
       "      <td>4046619</td>\n",
       "      <td>3786</td>\n",
       "      <td>7924</td>\n",
       "      <td>10:5</td>\n",
       "      <td>0.0</td>\n",
       "      <td>NaN</td>\n",
       "      <td>0</td>\n",
       "      <td>0.0</td>\n",
       "    </tr>\n",
       "  </tbody>\n",
       "</table>\n",
       "</div>"
      ],
      "text/plain": [
       "              date      date2               event_type  user_id  merchant_id  \\\n",
       "1054678 2016-01-01 2016-01-01  offline_buy_with_coupon  3292058         6594   \n",
       "1054912 2016-01-01 2016-01-01  offline_buy_with_coupon  3091874         1169   \n",
       "1058299 2016-01-01 2016-01-01  offline_buy_with_coupon   902667         1520   \n",
       "1061290 2016-01-01 2016-01-01  offline_buy_with_coupon  5262672         6735   \n",
       "1066893 2016-01-01 2016-01-01  offline_buy_with_coupon  4046619         3786   \n",
       "\n",
       "        coupon_id discount_name  distance  click_count  t   t2  \n",
       "1054678      6124            90       8.0          NaN  0  0.0  \n",
       "1054912      2663        150:30       NaN          NaN  0  0.0  \n",
       "1058299     13092            90       NaN          NaN  0  0.0  \n",
       "1061290      7496            95       0.0          NaN  0  0.0  \n",
       "1066893      7924          10:5       0.0          NaN  0  0.0  "
      ]
     },
     "execution_count": 188,
     "metadata": {},
     "output_type": "execute_result"
    }
   ],
   "source": [
    "df_events = pd.read_msgpack('data/z6_ts_events.msgpack')\n",
    "df_events['t'] = df_events['date'].dt.dayofyear - 1\n",
    "df_events['t2'] = df_events['date2'].dt.dayofyear - 1\n",
    "df_events.head(5)"
   ]
  },
  {
   "cell_type": "code",
   "execution_count": 190,
   "metadata": {},
   "outputs": [
    {
     "data": {
      "text/html": [
       "<div>\n",
       "<style scoped>\n",
       "    .dataframe tbody tr th:only-of-type {\n",
       "        vertical-align: middle;\n",
       "    }\n",
       "\n",
       "    .dataframe tbody tr th {\n",
       "        vertical-align: top;\n",
       "    }\n",
       "\n",
       "    .dataframe thead th {\n",
       "        text-align: right;\n",
       "    }\n",
       "</style>\n",
       "<table border=\"1\" class=\"dataframe\">\n",
       "  <thead>\n",
       "    <tr style=\"text-align: right;\">\n",
       "      <th></th>\n",
       "      <th></th>\n",
       "      <th></th>\n",
       "      <th>date</th>\n",
       "      <th>date2</th>\n",
       "      <th>user_id</th>\n",
       "      <th>coupon_id</th>\n",
       "      <th>discount_name</th>\n",
       "      <th>distance</th>\n",
       "      <th>click_count</th>\n",
       "      <th>t2</th>\n",
       "    </tr>\n",
       "    <tr>\n",
       "      <th>merchant_id</th>\n",
       "      <th>t</th>\n",
       "      <th>event_type</th>\n",
       "      <th></th>\n",
       "      <th></th>\n",
       "      <th></th>\n",
       "      <th></th>\n",
       "      <th></th>\n",
       "      <th></th>\n",
       "      <th></th>\n",
       "      <th></th>\n",
       "    </tr>\n",
       "  </thead>\n",
       "  <tbody>\n",
       "    <tr>\n",
       "      <th>49605</th>\n",
       "      <th>57</th>\n",
       "      <th>online_click</th>\n",
       "      <td>2016-02-27</td>\n",
       "      <td>NaT</td>\n",
       "      <td>5009858</td>\n",
       "      <td>NaN</td>\n",
       "      <td>NaN</td>\n",
       "      <td>NaN</td>\n",
       "      <td>1.0</td>\n",
       "      <td>NaN</td>\n",
       "    </tr>\n",
       "    <tr>\n",
       "      <th>760</th>\n",
       "      <th>206</th>\n",
       "      <th>offline_receive_coupon</th>\n",
       "      <td>2016-07-25</td>\n",
       "      <td>NaT</td>\n",
       "      <td>3285552</td>\n",
       "      <td>13602</td>\n",
       "      <td>30:5</td>\n",
       "      <td>0.0</td>\n",
       "      <td>NaN</td>\n",
       "      <td>NaN</td>\n",
       "    </tr>\n",
       "    <tr>\n",
       "      <th>3293</th>\n",
       "      <th>89</th>\n",
       "      <th>offline_buy_without_coupon</th>\n",
       "      <td>2016-03-30</td>\n",
       "      <td>NaT</td>\n",
       "      <td>302200</td>\n",
       "      <td>NaN</td>\n",
       "      <td>NaN</td>\n",
       "      <td>0.0</td>\n",
       "      <td>NaN</td>\n",
       "      <td>NaN</td>\n",
       "    </tr>\n",
       "    <tr>\n",
       "      <th>6901</th>\n",
       "      <th>147</th>\n",
       "      <th>offline_receive_coupon</th>\n",
       "      <td>2016-05-27</td>\n",
       "      <td>NaT</td>\n",
       "      <td>5412918</td>\n",
       "      <td>2366</td>\n",
       "      <td>30:5</td>\n",
       "      <td>0.0</td>\n",
       "      <td>NaN</td>\n",
       "      <td>NaN</td>\n",
       "    </tr>\n",
       "    <tr>\n",
       "      <th>2099</th>\n",
       "      <th>31</th>\n",
       "      <th>offline_receive_coupon</th>\n",
       "      <td>2016-02-01</td>\n",
       "      <td>NaT</td>\n",
       "      <td>6464173</td>\n",
       "      <td>12034</td>\n",
       "      <td>100:10</td>\n",
       "      <td>3.0</td>\n",
       "      <td>NaN</td>\n",
       "      <td>NaN</td>\n",
       "    </tr>\n",
       "  </tbody>\n",
       "</table>\n",
       "</div>"
      ],
      "text/plain": [
       "                                                 date date2  user_id  \\\n",
       "merchant_id t   event_type                                             \n",
       "49605       57  online_click               2016-02-27   NaT  5009858   \n",
       "760         206 offline_receive_coupon     2016-07-25   NaT  3285552   \n",
       "3293        89  offline_buy_without_coupon 2016-03-30   NaT   302200   \n",
       "6901        147 offline_receive_coupon     2016-05-27   NaT  5412918   \n",
       "2099        31  offline_receive_coupon     2016-02-01   NaT  6464173   \n",
       "\n",
       "                                           coupon_id discount_name  distance  \\\n",
       "merchant_id t   event_type                                                     \n",
       "49605       57  online_click                     NaN           NaN       NaN   \n",
       "760         206 offline_receive_coupon         13602          30:5       0.0   \n",
       "3293        89  offline_buy_without_coupon       NaN           NaN       0.0   \n",
       "6901        147 offline_receive_coupon          2366          30:5       0.0   \n",
       "2099        31  offline_receive_coupon         12034        100:10       3.0   \n",
       "\n",
       "                                            click_count  t2  \n",
       "merchant_id t   event_type                                   \n",
       "49605       57  online_click                        1.0 NaN  \n",
       "760         206 offline_receive_coupon              NaN NaN  \n",
       "3293        89  offline_buy_without_coupon          NaN NaN  \n",
       "6901        147 offline_receive_coupon              NaN NaN  \n",
       "2099        31  offline_receive_coupon              NaN NaN  "
      ]
     },
     "execution_count": 190,
     "metadata": {},
     "output_type": "execute_result"
    }
   ],
   "source": [
    "df_merchant = df_events.set_index(['merchant_id', 't', 'event_type']).sort_index()\n",
    "df_merchant.sample(5)"
   ]
  },
  {
   "cell_type": "code",
   "execution_count": 194,
   "metadata": {},
   "outputs": [],
   "source": [
    "idx = pd.IndexSlice"
   ]
  },
  {
   "cell_type": "code",
   "execution_count": 204,
   "metadata": {},
   "outputs": [
    {
     "name": "stdout",
     "output_type": "stream",
     "text": [
      "35.9 ms ± 2.97 ms per loop (mean ± std. dev. of 7 runs, 10 loops each)\n"
     ]
    }
   ],
   "source": [
    "%%timeit\n",
    "df_merchant.loc[idx[760, 206:256],]"
   ]
  },
  {
   "cell_type": "code",
   "execution_count": 200,
   "metadata": {},
   "outputs": [
    {
     "name": "stderr",
     "output_type": "stream",
     "text": [
      "100%|██████████| 3458396/3458396 [00:05<00:00, 578806.67it/s]\n",
      "2019-01-14 19:55:01.908 | INFO     | __main__:TLOG:19 - _build_index cost 6.429s\n"
     ]
    }
   ],
   "source": [
    "ievents = IndexedEvents(df_events)"
   ]
  },
  {
   "cell_type": "code",
   "execution_count": 205,
   "metadata": {},
   "outputs": [
    {
     "name": "stdout",
     "output_type": "stream",
     "text": [
      "3.6 µs ± 65.6 ns per loop (mean ± std. dev. of 7 runs, 100000 loops each)\n"
     ]
    }
   ],
   "source": [
    "%%timeit\n",
    "ievents.loc(760, 206, 256)"
   ]
  },
  {
   "cell_type": "code",
   "execution_count": 209,
   "metadata": {},
   "outputs": [],
   "source": [
    "values = ievents.loc(760, 206, 256)"
   ]
  },
  {
   "cell_type": "code",
   "execution_count": 213,
   "metadata": {},
   "outputs": [
    {
     "data": {
      "text/plain": [
       "array([[Timestamp('2016-07-25 00:00:00'), NaT, 'offline_receive_coupon',\n",
       "        ..., nan, 206, nan],\n",
       "       [Timestamp('2016-07-25 00:00:00'), NaT, 'offline_receive_coupon',\n",
       "        ..., nan, 206, nan],\n",
       "       [Timestamp('2016-07-25 00:00:00'), NaT, 'offline_receive_coupon',\n",
       "        ..., nan, 206, nan],\n",
       "       ...,\n",
       "       [Timestamp('2016-07-31 00:00:00'), NaT, 'offline_receive_coupon',\n",
       "        ..., nan, 212, nan],\n",
       "       [Timestamp('2016-07-31 00:00:00'), NaT, 'offline_receive_coupon',\n",
       "        ..., nan, 212, nan],\n",
       "       [Timestamp('2016-07-31 00:00:00'), NaT, 'offline_receive_coupon',\n",
       "        ..., nan, 212, nan]], dtype=object)"
      ]
     },
     "execution_count": 213,
     "metadata": {},
     "output_type": "execute_result"
    }
   ],
   "source": [
    "values\n",
    "\n"
   ]
  },
  {
   "cell_type": "code",
   "execution_count": 220,
   "metadata": {},
   "outputs": [
    {
     "data": {
      "text/plain": [
       "8407"
      ]
     },
     "execution_count": 220,
     "metadata": {},
     "output_type": "execute_result"
    }
   ],
   "source": [
    "len(df_merchant.loc[idx[760, 206:256],])"
   ]
  },
  {
   "cell_type": "code",
   "execution_count": 219,
   "metadata": {},
   "outputs": [
    {
     "data": {
      "text/plain": [
       "(8407, 11)"
      ]
     },
     "execution_count": 219,
     "metadata": {},
     "output_type": "execute_result"
    }
   ],
   "source": [
    "values.shape"
   ]
  },
  {
   "cell_type": "code",
   "execution_count": 216,
   "metadata": {},
   "outputs": [
    {
     "name": "stdout",
     "output_type": "stream",
     "text": [
      "1.65 ms ± 8.69 µs per loop (mean ± std. dev. of 7 runs, 1000 loops each)\n"
     ]
    }
   ],
   "source": [
    "%%timeit\n",
    "i = 0\n",
    "for row in values:\n",
    "    i += 1\n",
    "i"
   ]
  },
  {
   "cell_type": "code",
   "execution_count": 223,
   "metadata": {},
   "outputs": [
    {
     "data": {
      "text/html": [
       "<div>\n",
       "<style scoped>\n",
       "    .dataframe tbody tr th:only-of-type {\n",
       "        vertical-align: middle;\n",
       "    }\n",
       "\n",
       "    .dataframe tbody tr th {\n",
       "        vertical-align: top;\n",
       "    }\n",
       "\n",
       "    .dataframe thead th {\n",
       "        text-align: right;\n",
       "    }\n",
       "</style>\n",
       "<table border=\"1\" class=\"dataframe\">\n",
       "  <thead>\n",
       "    <tr style=\"text-align: right;\">\n",
       "      <th></th>\n",
       "      <th>date</th>\n",
       "      <th>date2</th>\n",
       "      <th>event_type</th>\n",
       "      <th>user_id</th>\n",
       "      <th>merchant_id</th>\n",
       "      <th>coupon_id</th>\n",
       "      <th>discount_name</th>\n",
       "      <th>distance</th>\n",
       "      <th>click_count</th>\n",
       "      <th>t</th>\n",
       "      <th>t2</th>\n",
       "    </tr>\n",
       "  </thead>\n",
       "  <tbody>\n",
       "    <tr>\n",
       "      <th>1054678</th>\n",
       "      <td>2016-01-01</td>\n",
       "      <td>2016-01-01</td>\n",
       "      <td>offline_buy_with_coupon</td>\n",
       "      <td>3292058</td>\n",
       "      <td>6594</td>\n",
       "      <td>6124</td>\n",
       "      <td>90</td>\n",
       "      <td>8.0</td>\n",
       "      <td>NaN</td>\n",
       "      <td>0</td>\n",
       "      <td>0.0</td>\n",
       "    </tr>\n",
       "    <tr>\n",
       "      <th>1054912</th>\n",
       "      <td>2016-01-01</td>\n",
       "      <td>2016-01-01</td>\n",
       "      <td>offline_buy_with_coupon</td>\n",
       "      <td>3091874</td>\n",
       "      <td>1169</td>\n",
       "      <td>2663</td>\n",
       "      <td>150:30</td>\n",
       "      <td>NaN</td>\n",
       "      <td>NaN</td>\n",
       "      <td>0</td>\n",
       "      <td>0.0</td>\n",
       "    </tr>\n",
       "    <tr>\n",
       "      <th>1058299</th>\n",
       "      <td>2016-01-01</td>\n",
       "      <td>2016-01-01</td>\n",
       "      <td>offline_buy_with_coupon</td>\n",
       "      <td>902667</td>\n",
       "      <td>1520</td>\n",
       "      <td>13092</td>\n",
       "      <td>90</td>\n",
       "      <td>NaN</td>\n",
       "      <td>NaN</td>\n",
       "      <td>0</td>\n",
       "      <td>0.0</td>\n",
       "    </tr>\n",
       "    <tr>\n",
       "      <th>1061290</th>\n",
       "      <td>2016-01-01</td>\n",
       "      <td>2016-01-01</td>\n",
       "      <td>offline_buy_with_coupon</td>\n",
       "      <td>5262672</td>\n",
       "      <td>6735</td>\n",
       "      <td>7496</td>\n",
       "      <td>95</td>\n",
       "      <td>0.0</td>\n",
       "      <td>NaN</td>\n",
       "      <td>0</td>\n",
       "      <td>0.0</td>\n",
       "    </tr>\n",
       "    <tr>\n",
       "      <th>1066893</th>\n",
       "      <td>2016-01-01</td>\n",
       "      <td>2016-01-01</td>\n",
       "      <td>offline_buy_with_coupon</td>\n",
       "      <td>4046619</td>\n",
       "      <td>3786</td>\n",
       "      <td>7924</td>\n",
       "      <td>10:5</td>\n",
       "      <td>0.0</td>\n",
       "      <td>NaN</td>\n",
       "      <td>0</td>\n",
       "      <td>0.0</td>\n",
       "    </tr>\n",
       "  </tbody>\n",
       "</table>\n",
       "</div>"
      ],
      "text/plain": [
       "              date      date2               event_type  user_id  merchant_id  \\\n",
       "1054678 2016-01-01 2016-01-01  offline_buy_with_coupon  3292058         6594   \n",
       "1054912 2016-01-01 2016-01-01  offline_buy_with_coupon  3091874         1169   \n",
       "1058299 2016-01-01 2016-01-01  offline_buy_with_coupon   902667         1520   \n",
       "1061290 2016-01-01 2016-01-01  offline_buy_with_coupon  5262672         6735   \n",
       "1066893 2016-01-01 2016-01-01  offline_buy_with_coupon  4046619         3786   \n",
       "\n",
       "        coupon_id discount_name  distance  click_count  t   t2  \n",
       "1054678      6124            90       8.0          NaN  0  0.0  \n",
       "1054912      2663        150:30       NaN          NaN  0  0.0  \n",
       "1058299     13092            90       NaN          NaN  0  0.0  \n",
       "1061290      7496            95       0.0          NaN  0  0.0  \n",
       "1066893      7924          10:5       0.0          NaN  0  0.0  "
      ]
     },
     "execution_count": 223,
     "metadata": {},
     "output_type": "execute_result"
    }
   ],
   "source": [
    "df_events.head(5)"
   ]
  },
  {
   "cell_type": "code",
   "execution_count": 227,
   "metadata": {},
   "outputs": [
    {
     "data": {
      "text/plain": [
       "FrozenList(['merchant_id', 't', 'event_type'])"
      ]
     },
     "execution_count": 227,
     "metadata": {},
     "output_type": "execute_result"
    }
   ],
   "source": [
    "df_merchant.index.names"
   ]
  },
  {
   "cell_type": "code",
   "execution_count": 229,
   "metadata": {},
   "outputs": [
    {
     "data": {
      "text/plain": [
       "array([[ True, False],\n",
       "       [ True, False]])"
      ]
     },
     "execution_count": 229,
     "metadata": {},
     "output_type": "execute_result"
    }
   ],
   "source": [
    "arr = pd.DataFrame([\n",
    "    [True, False],\n",
    "    [True, False],\n",
    "]).values\n",
    "arr"
   ]
  },
  {
   "cell_type": "code",
   "execution_count": 234,
   "metadata": {},
   "outputs": [],
   "source": [
    "import numpy as np \n",
    "\n",
    "arraylist =[(1526869384.273246, 0, 'a0'),\n",
    "(1526869385.273246, 1, 'a1'),\n",
    "(1526869386.273246, 2, 'a2'),\n",
    "(1526869387.273246, 3, 'a3'),\n",
    "(1526869388.273246, 4, 'a4'),\n",
    "(1526869389.273246, 5, 'a5'),\n",
    "(1526869390.273246, 6, 'a6'),\n",
    "(1526869391.273246, 7, 'a7'),\n",
    "(1526869392.273246, 8, 'a8'),\n",
    "(1526869393.273246, 9, 'a9'),\n",
    "(1526869384.273246, 0, 'a0'),\n",
    "(1526869385.273246, 1, 'a1'),\n",
    "(1526869386.273246, 2, 'a2'),\n",
    "(1526869387.273246, 3, 'a3'),\n",
    "(1526869388.273246, 4, 'a4'),\n",
    "(1526869389.273246, 5, 'a5'),\n",
    "(1526869390.273246, 6, 'a6'),\n",
    "(1526869391.273246, 7, 'a7'),\n",
    "(1526869392.273246, 8, 'a8'),\n",
    "(1526869393.273246, 9, 'a9')]\n",
    "\n",
    "dtype = [('A', 'float'), ('B', 'int'), ('C', '<U32')]\n",
    "array = np.array(arraylist, dtype=dtype)"
   ]
  },
  {
   "cell_type": "code",
   "execution_count": 244,
   "metadata": {},
   "outputs": [],
   "source": [
    "df = df_events.head(100)\n",
    "dtype = list(df.dtypes.items())\n",
    "# np.array(df.values, dtype=dtype)"
   ]
  },
  {
   "cell_type": "code",
   "execution_count": 255,
   "metadata": {},
   "outputs": [
    {
     "data": {
      "text/plain": [
       "[('date', dtype('<M8[ns]')),\n",
       " ('date2', dtype('<M8[ns]')),\n",
       " ('event_type', str),\n",
       " ('user_id', dtype('int64')),\n",
       " ('merchant_id', dtype('int64')),\n",
       " ('coupon_id', str),\n",
       " ('discount_name', str),\n",
       " ('distance', dtype('float64')),\n",
       " ('click_count', dtype('float64')),\n",
       " ('t', dtype('int64')),\n",
       " ('t2', dtype('float64'))]"
      ]
     },
     "execution_count": 255,
     "metadata": {},
     "output_type": "execute_result"
    }
   ],
   "source": [
    "np_dtype = []\n",
    "for k, v in df.dtypes:\n",
    "    if v == np.object:\n",
    "        v = np.str\n",
    "    else:\n",
    "        try:\n",
    "            v = np.dtype(v)\n",
    "        except:\n",
    "            v = np.str\n",
    "    np_dtype.append((k, v))\n",
    "np_dtype"
   ]
  },
  {
   "cell_type": "code",
   "execution_count": 266,
   "metadata": {},
   "outputs": [
    {
     "data": {
      "text/plain": [
       "array(['offline_buy_with_coupon', 'offline_buy_with_coupon',\n",
       "       'offline_buy_with_coupon', ..., 'offline_receive_coupon',\n",
       "       'offline_receive_coupon', 'offline_receive_coupon'], dtype='<U26')"
      ]
     },
     "execution_count": 266,
     "metadata": {},
     "output_type": "execute_result"
    }
   ],
   "source": [
    "np.array(df_events['event_type'].values).astype(str)"
   ]
  },
  {
   "cell_type": "code",
   "execution_count": 268,
   "metadata": {},
   "outputs": [],
   "source": [
    "to_datetime64 = np.vectorize(lambda x: x.to_datetime64())"
   ]
  },
  {
   "cell_type": "code",
   "execution_count": 280,
   "metadata": {},
   "outputs": [
    {
     "ename": "ValueError",
     "evalue": "zero-size array to reduction operation minimum which has no identity",
     "output_type": "error",
     "traceback": [
      "\u001b[0;31m---------------------------------------------------------------------------\u001b[0m",
      "\u001b[0;31mValueError\u001b[0m                                Traceback (most recent call last)",
      "\u001b[0;32m<ipython-input-280-8995df9868a9>\u001b[0m in \u001b[0;36m<module>\u001b[0;34m\u001b[0m\n\u001b[0;32m----> 1\u001b[0;31m \u001b[0mnp\u001b[0m\u001b[0;34m.\u001b[0m\u001b[0mmin\u001b[0m\u001b[0;34m(\u001b[0m\u001b[0mnp\u001b[0m\u001b[0;34m.\u001b[0m\u001b[0marray\u001b[0m\u001b[0;34m(\u001b[0m\u001b[0;34m[\u001b[0m\u001b[0;34m]\u001b[0m\u001b[0;34m)\u001b[0m\u001b[0;34m)\u001b[0m\u001b[0;34m\u001b[0m\u001b[0m\n\u001b[0m",
      "\u001b[0;32m~/anaconda3/lib/python3.6/site-packages/numpy/core/fromnumeric.py\u001b[0m in \u001b[0;36mamin\u001b[0;34m(a, axis, out, keepdims)\u001b[0m\n\u001b[1;32m   2418\u001b[0m \u001b[0;34m\u001b[0m\u001b[0m\n\u001b[1;32m   2419\u001b[0m     return _methods._amin(a, axis=axis,\n\u001b[0;32m-> 2420\u001b[0;31m                           out=out, **kwargs)\n\u001b[0m\u001b[1;32m   2421\u001b[0m \u001b[0;34m\u001b[0m\u001b[0m\n\u001b[1;32m   2422\u001b[0m \u001b[0;34m\u001b[0m\u001b[0m\n",
      "\u001b[0;32m~/anaconda3/lib/python3.6/site-packages/numpy/core/_methods.py\u001b[0m in \u001b[0;36m_amin\u001b[0;34m(a, axis, out, keepdims)\u001b[0m\n\u001b[1;32m     27\u001b[0m \u001b[0;34m\u001b[0m\u001b[0m\n\u001b[1;32m     28\u001b[0m \u001b[0;32mdef\u001b[0m \u001b[0m_amin\u001b[0m\u001b[0;34m(\u001b[0m\u001b[0ma\u001b[0m\u001b[0;34m,\u001b[0m \u001b[0maxis\u001b[0m\u001b[0;34m=\u001b[0m\u001b[0;32mNone\u001b[0m\u001b[0;34m,\u001b[0m \u001b[0mout\u001b[0m\u001b[0;34m=\u001b[0m\u001b[0;32mNone\u001b[0m\u001b[0;34m,\u001b[0m \u001b[0mkeepdims\u001b[0m\u001b[0;34m=\u001b[0m\u001b[0;32mFalse\u001b[0m\u001b[0;34m)\u001b[0m\u001b[0;34m:\u001b[0m\u001b[0;34m\u001b[0m\u001b[0m\n\u001b[0;32m---> 29\u001b[0;31m     \u001b[0;32mreturn\u001b[0m \u001b[0mumr_minimum\u001b[0m\u001b[0;34m(\u001b[0m\u001b[0ma\u001b[0m\u001b[0;34m,\u001b[0m \u001b[0maxis\u001b[0m\u001b[0;34m,\u001b[0m \u001b[0;32mNone\u001b[0m\u001b[0;34m,\u001b[0m \u001b[0mout\u001b[0m\u001b[0;34m,\u001b[0m \u001b[0mkeepdims\u001b[0m\u001b[0;34m)\u001b[0m\u001b[0;34m\u001b[0m\u001b[0m\n\u001b[0m\u001b[1;32m     30\u001b[0m \u001b[0;34m\u001b[0m\u001b[0m\n\u001b[1;32m     31\u001b[0m \u001b[0;32mdef\u001b[0m \u001b[0m_sum\u001b[0m\u001b[0;34m(\u001b[0m\u001b[0ma\u001b[0m\u001b[0;34m,\u001b[0m \u001b[0maxis\u001b[0m\u001b[0;34m=\u001b[0m\u001b[0;32mNone\u001b[0m\u001b[0;34m,\u001b[0m \u001b[0mdtype\u001b[0m\u001b[0;34m=\u001b[0m\u001b[0;32mNone\u001b[0m\u001b[0;34m,\u001b[0m \u001b[0mout\u001b[0m\u001b[0;34m=\u001b[0m\u001b[0;32mNone\u001b[0m\u001b[0;34m,\u001b[0m \u001b[0mkeepdims\u001b[0m\u001b[0;34m=\u001b[0m\u001b[0;32mFalse\u001b[0m\u001b[0;34m)\u001b[0m\u001b[0;34m:\u001b[0m\u001b[0;34m\u001b[0m\u001b[0m\n",
      "\u001b[0;31mValueError\u001b[0m: zero-size array to reduction operation minimum which has no identity"
     ]
    }
   ],
   "source": [
    "np.min(np.array([]))"
   ]
  },
  {
   "cell_type": "code",
   "execution_count": 275,
   "metadata": {},
   "outputs": [
    {
     "data": {
      "text/plain": [
       "[[1, 4], [2, 5], [3, 6]]"
      ]
     },
     "execution_count": 275,
     "metadata": {},
     "output_type": "execute_result"
    }
   ],
   "source": [
    "np.array(list(zip([1,2,3], [4,5,6]))).tolist()"
   ]
  }
 ],
 "metadata": {
  "kernelspec": {
   "display_name": "Python 3",
   "language": "python",
   "name": "python3"
  },
  "language_info": {
   "codemirror_mode": {
    "name": "ipython",
    "version": 3
   },
   "file_extension": ".py",
   "mimetype": "text/x-python",
   "name": "python",
   "nbconvert_exporter": "python",
   "pygments_lexer": "ipython3",
   "version": "3.6.6"
  }
 },
 "nbformat": 4,
 "nbformat_minor": 2
}
